{
 "cells": [
  {
   "cell_type": "markdown",
   "metadata": {},
   "source": [
    "## 티스토리 블로그 자동 로그인 및 access token 발급 받기"
   ]
  },
  {
   "cell_type": "code",
   "execution_count": 33,
   "metadata": {
    "scrolled": true,
    "tags": []
   },
   "outputs": [
    {
     "name": "stdout",
     "output_type": "stream",
     "text": [
      "https://www.tistory.com/oauth/authorize?client_id=a1f11d9eb54d53fcdb19da6026fa0fa7&redirect_uri=https://kkamagistory.tistory.com&response_type=code&state=someValue\n",
      "200\n",
      "https://www.tistory.com/auth/login/?popup=1&redirectUrl=https%3A%2F%2Fwww.tistory.com%2Foauth%2Fauthorize%3Fclient_id%3Da1f11d9eb54d53fcdb19da6026fa0fa7%26redirect_uri%3Dhttps%3A%2F%2Fkkamagistory.tistory.com%26response_type%3Dcode%26state%3DsomeValue\n",
      "https://www.tistory.com/oauth/access_token?client_id=a1f11d9eb54d53fcdb19da6026fa0fa7&client_secret=a1f11d9eb54d53fcdb19da6026fa0fa7b31ac8af06b2bae7ed017161cb6332bb14bd06dc&redirect_uri=https://kkamagistory.tistory.com&code=7282e014c869c2875a28f903de44a450b23a07a39c830d032def58378231ee77294604e7&grant_type=authorization_code\n",
      "https://www.tistory.com/auth/login/?popup=1&redirectUrl=https%3A%2F%2Fwww.tistory.com%2Foauth%2Fauthorize%3Fclient_id%3Da1f11d9eb54d53fcdb19da6026fa0fa7%26redirect_uri%3Dhttps%3A%2F%2Fkkamagistory.tistory.com%26response_type%3Dcode%26state%3DsomeValue\n",
      "None\n"
     ]
    },
    {
     "ename": "AttributeError",
     "evalue": "'NoneType' object has no attribute 'groupdict'",
     "output_type": "error",
     "traceback": [
      "\u001b[1;31m---------------------------------------------------------------------------\u001b[0m",
      "\u001b[1;31mAttributeError\u001b[0m                            Traceback (most recent call last)",
      "\u001b[1;32m<ipython-input-33-e42f4e916671>\u001b[0m in \u001b[0;36m<module>\u001b[1;34m\u001b[0m\n\u001b[0;32m     65\u001b[0m \u001b[0mmatch\u001b[0m \u001b[1;33m=\u001b[0m \u001b[0mre\u001b[0m\u001b[1;33m.\u001b[0m\u001b[0mmatch\u001b[0m\u001b[1;33m(\u001b[0m\u001b[1;34m'(.*?)access_token=(?P<access_token>.*?)&state='\u001b[0m\u001b[1;33m,\u001b[0m \u001b[0mres\u001b[0m\u001b[1;33m.\u001b[0m\u001b[0murl\u001b[0m\u001b[1;33m)\u001b[0m\u001b[1;33m\u001b[0m\u001b[1;33m\u001b[0m\u001b[0m\n\u001b[0;32m     66\u001b[0m \u001b[0mprint\u001b[0m\u001b[1;33m(\u001b[0m\u001b[0mmatch\u001b[0m\u001b[1;33m)\u001b[0m\u001b[1;33m\u001b[0m\u001b[1;33m\u001b[0m\u001b[0m\n\u001b[1;32m---> 67\u001b[1;33m \u001b[0mgd\u001b[0m \u001b[1;33m=\u001b[0m \u001b[0mmatch\u001b[0m\u001b[1;33m.\u001b[0m\u001b[0mgroupdict\u001b[0m\u001b[1;33m(\u001b[0m\u001b[1;33m)\u001b[0m\u001b[1;33m\u001b[0m\u001b[1;33m\u001b[0m\u001b[0m\n\u001b[0m\u001b[0;32m     68\u001b[0m \u001b[0maccess_token\u001b[0m \u001b[1;33m=\u001b[0m \u001b[0mgd\u001b[0m\u001b[1;33m[\u001b[0m\u001b[1;34m'access_token'\u001b[0m\u001b[1;33m]\u001b[0m\u001b[1;33m\u001b[0m\u001b[1;33m\u001b[0m\u001b[0m\n\u001b[0;32m     69\u001b[0m \u001b[0mprint\u001b[0m\u001b[1;33m(\u001b[0m\u001b[1;34m\"access token : \"\u001b[0m\u001b[1;33m,\u001b[0m \u001b[0maccess_token\u001b[0m\u001b[1;33m)\u001b[0m\u001b[1;33m\u001b[0m\u001b[1;33m\u001b[0m\u001b[0m\n",
      "\u001b[1;31mAttributeError\u001b[0m: 'NoneType' object has no attribute 'groupdict'"
     ]
    }
   ],
   "source": [
    "import requests\n",
    "import json\n",
    "import re\n",
    "import webbrowser\n",
    "import pandas as pd\n",
    "\n",
    "# App 아이디 설정-재발급-2020.11.26\n",
    "client_id = 'a1f11d9eb54d53fcdb19da6026fa0fa7'\n",
    "Secret_Key = 'a1f11d9eb54d53fcdb19da6026fa0fa7b31ac8af06b2bae7ed017161cb6332bb14bd06dc'\n",
    "\n",
    "# tistory blog name: address id or full address\n",
    "blog_name = \"https://kkamagistory.tistory.com\"\n",
    "\n",
    "# Callback 설정\n",
    "redirect_uri = 'https://kkamagistory.tistory.com'\n",
    "#oauth_url = \"https://www.tistory.com/oauth/authorize?client_id=\"+client_id+\"&redirect_uri=\"+redirect_uri+\"&response_type=token\"\n",
    "oauth_url = \"https://www.tistory.com/oauth/authorize?client_id=\"+client_id+\"&redirect_uri=\"+redirect_uri+\"&response_type=code&state=someValue\"\n",
    "print(oauth_url)\n",
    "output_type = \"json\"\n",
    "requests_headers = {\n",
    "    \"User-Agent\": \"Mozilla/5.0 (Windows NT 10.0; Win64; x64) AppleWebKit/537.36 (KHTML, like Gecko) Chrome/71.0.3578.98 Safari/537.36\"\n",
    "}\n",
    "\n",
    "# tistory account 및 로그인 하기\n",
    "#user_id = 'karas639@gmail.com'\n",
    "user_id = 'karas639@kakao.com'\n",
    "password = 'dwkimsec135@$^'\n",
    "\n",
    "# http 요청 응답 체크\n",
    "res = requests.get(oauth_url)\n",
    "print(res.status_code)\n",
    "#print(res.headers['Set-Cookie'])\n",
    "#kakao_cookie = res.headers['Set-Cookie'].replace(\"; path=/\",'')\n",
    "#print(kakao_cookie)\n",
    "print(res.url)\n",
    "\n",
    "# header 및 login data 변수 정의\n",
    "headers = {\n",
    "    'Accept' : 'text/html, application/xhtml+xml, image/jxr, */*',\n",
    "    'Accept-Encoding' : 'gzip, deflate',\n",
    "    'Accept-Language' : 'ko, en-US; q=0.8, en; q=0.6, zh-Hans-CN; q=0.4, zh-Hans; q=0.2',\n",
    "    'Cache-Control' : 'no-cache',\n",
    "    'Connection' : 'Keep-Alive',\n",
    "    'Content-Type' : 'application/x-www-form-urlencoded',\n",
    "    #'Cookie' : kakao_cookie,\n",
    "    'Host' : 'www.tistory.com',\n",
    "    'Referer' : res.url,\n",
    "    'User-Agent' : 'Mozilla/5.0 (Windows NT 10.0; WOW64; Trident/7.0; rv:11.0) like Gecko'\n",
    "}\n",
    "login_data = {\n",
    "    'fp' : 'a1f11d9eb54d53fcdb19da6026fa0fa7',\n",
    "    'keepLogin' : 'on',\n",
    "    'loginId' : user_id,\n",
    "    'password' : password,\n",
    "    'redirectUrl' : res.url\n",
    "}\n",
    "\n",
    "code = '7282e014c869c2875a28f903de44a450b23a07a39c830d032def58378231ee77294604e7'\n",
    "# access token 받아오기\n",
    "req1 = \"https://www.tistory.com/oauth/access_token?client_id=\"+client_id+\"&client_secret=\"+Secret_Key+\"&redirect_uri=\"+redirect_uri+\"&code=\"+code+\"&grant_type=authorization_code\"\n",
    "print(req1)\n",
    "#res = requests.post(req1)\n",
    "#res = requests.post('https://www.tistory.com/auth/login', headers=headers, data=login_data)\n",
    "#print(res.url)\n",
    "#match = re.match('(.*?)access_token=(?P<access_token>.*?)&state=', res.url)\n",
    "#print(match)\n",
    "#gd = match.groupdict()\n",
    "#access_token = gd['access_token']\n",
    "#print(\"access token : \", access_token)\n",
    "\n"
   ]
  },
  {
   "cell_type": "code",
   "execution_count": 7,
   "metadata": {},
   "outputs": [
    {
     "ename": "NameError",
     "evalue": "name 'output_type' is not defined",
     "output_type": "error",
     "traceback": [
      "\u001b[1;31m---------------------------------------------------------------------------\u001b[0m",
      "\u001b[1;31mNameError\u001b[0m                                 Traceback (most recent call last)",
      "\u001b[1;32m<ipython-input-7-3692cad232b8>\u001b[0m in \u001b[0;36m<module>\u001b[1;34m\u001b[0m\n\u001b[0;32m     48\u001b[0m \u001b[1;33m\u001b[0m\u001b[0m\n\u001b[0;32m     49\u001b[0m \u001b[1;33m\u001b[0m\u001b[0m\n\u001b[1;32m---> 50\u001b[1;33m \u001b[0mget_category\u001b[0m\u001b[1;33m(\u001b[0m\u001b[1;33m)\u001b[0m\u001b[1;33m\u001b[0m\u001b[1;33m\u001b[0m\u001b[0m\n\u001b[0m\u001b[0;32m     51\u001b[0m \u001b[0mget_write\u001b[0m\u001b[1;33m(\u001b[0m\u001b[1;33m)\u001b[0m\u001b[1;33m\u001b[0m\u001b[1;33m\u001b[0m\u001b[0m\n",
      "\u001b[1;32m<ipython-input-7-3692cad232b8>\u001b[0m in \u001b[0;36mget_category\u001b[1;34m()\u001b[0m\n\u001b[0;32m     11\u001b[0m \u001b[1;33m\u001b[0m\u001b[0m\n\u001b[0;32m     12\u001b[0m \u001b[1;32mdef\u001b[0m \u001b[0mget_category\u001b[0m\u001b[1;33m(\u001b[0m\u001b[1;33m)\u001b[0m\u001b[1;33m:\u001b[0m\u001b[1;33m\u001b[0m\u001b[1;33m\u001b[0m\u001b[0m\n\u001b[1;32m---> 13\u001b[1;33m     \u001b[0murl\u001b[0m \u001b[1;33m=\u001b[0m \u001b[1;34mf'https://www.tistory.com/apis/category/list?access_token={access_token}&output={output_type}&blogName={blog_name}'\u001b[0m\u001b[1;33m\u001b[0m\u001b[1;33m\u001b[0m\u001b[0m\n\u001b[0m\u001b[0;32m     14\u001b[0m     \u001b[0mr\u001b[0m \u001b[1;33m=\u001b[0m \u001b[0mrequests\u001b[0m\u001b[1;33m.\u001b[0m\u001b[0mget\u001b[0m\u001b[1;33m(\u001b[0m\u001b[0murl\u001b[0m\u001b[1;33m,\u001b[0m \u001b[0mheaders\u001b[0m\u001b[1;33m=\u001b[0m\u001b[0mrequests_headers\u001b[0m\u001b[1;33m)\u001b[0m\u001b[1;33m\u001b[0m\u001b[1;33m\u001b[0m\u001b[0m\n\u001b[0;32m     15\u001b[0m     \u001b[0mr\u001b[0m \u001b[1;33m=\u001b[0m \u001b[0mr\u001b[0m\u001b[1;33m.\u001b[0m\u001b[0mjson\u001b[0m\u001b[1;33m(\u001b[0m\u001b[1;33m)\u001b[0m\u001b[1;33m[\u001b[0m\u001b[1;34m'tistory'\u001b[0m\u001b[1;33m]\u001b[0m\u001b[1;33m[\u001b[0m\u001b[1;34m'item'\u001b[0m\u001b[1;33m]\u001b[0m\u001b[1;33m[\u001b[0m\u001b[1;34m'categories'\u001b[0m\u001b[1;33m]\u001b[0m\u001b[1;33m\u001b[0m\u001b[1;33m\u001b[0m\u001b[0m\n",
      "\u001b[1;31mNameError\u001b[0m: name 'output_type' is not defined"
     ]
    }
   ],
   "source": [
    "access_token = '70567d7295df82e5aa4837bff1751a99_833d675491192312ff1d06118acea24a'\n",
    "def get_info():\n",
    "    info_url = f'https://www.tistory.com/apis/blog/info?access_token={access_token}&output={output_type}'\n",
    "    r =requests.get(info_url, headers=requests_headers)\n",
    "    return r.text\n",
    "\n",
    "def get_list(page_number):\n",
    "    url = f'https://www.tistory.com/apis/post/list?access_token={access_token}&output={output_type}&blogName={blog_name}&page={page_number}'\n",
    "    r = requests.get(url, headers = requests_headers)\n",
    "    return r.text\n",
    "\n",
    "def get_category():\n",
    "    url = f'https://www.tistory.com/apis/category/list?access_token={access_token}&output={output_type}&blogName={blog_name}'\n",
    "    r = requests.get(url, headers=requests_headers)\n",
    "    r = r.json()['tistory']['item']['categories']\n",
    "    for i in r:\n",
    "        print(f'{i[\"name\"]} ({i[\"id\"]})')\n",
    "    return r\n",
    "\n",
    "def get_write():\n",
    "    title = title1 #제목 (필수)\n",
    "    content = naver_result #글내용(필수)\n",
    "    visibility = \"3\" #발행상태 0비공개-기본, 1보고,3발행\n",
    "    category_id = \"889078\" #카테고리 아이디 기본값 0\n",
    "    published =\"\" #기본값 : 현재시간\n",
    "    slogan = \"\" #문자주소\n",
    "    tag = \"코로나, 코로나19, 실시간 뉴스\" #태그 ,로 구분\n",
    "    acceptComment = \"1\" #댓글 허용 (0, 1 - 기본값)\n",
    "    password = \"\" #보호글 비밀번호\n",
    "    url = f'https://www.tistory.com/apis/post/write?access_token={access_token}&output={output_type}&blogName={blog_name}&title={title}&content={content}&visibility={visibility}&category={category_id}&slogan={slogan}&tag={tag}&acceptComment={acceptComment}&password={password}'\n",
    "    r = requests.post(url)\n",
    "    print(r, r.text)\n",
    "    \n",
    "def file_upload():\n",
    "    files = {'uploadedfile': open(filepath, 'rb')}\n",
    "    params = {'access_token': access_token, 'blogName': kkamagistory, 'targetUrl': blogName, 'output': 'json'}\n",
    "    rd = requests.post('https://www.tistory.com/apis/post/attach', params=params, files=files)\n",
    " \n",
    "    try:\n",
    "        item = json.loads(rd.text)\n",
    "        print(json.dumps(item, indent=4))\n",
    "        print(\"----------------------------------------------\")\n",
    "        print(item[\"tistory\"][\"replacer\"])\n",
    "        print(item[\"tistory\"][\"url\"])\n",
    "        print(item[\"tistory\"][\"status\"])\n",
    "    except:\n",
    "        print(\"Failed\")\n",
    " \n",
    " \n",
    "get_category()\n",
    "get_write()"
   ]
  },
  {
   "cell_type": "code",
   "execution_count": 19,
   "metadata": {},
   "outputs": [
    {
     "name": "stdout",
     "output_type": "stream",
     "text": [
      "Message: no such element: Unable to locate element: {\"method\":\"id\",\"selector\":\"right.ranking_contents\"}\n",
      "  (Session info: chrome=87.0.4280.88)\n",
      "  (Driver info: chromedriver=2.40.565498 (ea082db3280dd6843ebfb08a625e3eb905c4f5ab),platform=Windows NT 10.0.19042 x86_64)\n",
      "\n"
     ]
    }
   ],
   "source": [
    "from selenium import webdriver\n",
    "\n",
    "# webdriver 안에 있는 여러 클래스 중 크롬클래스를 사용해서 크롬을 띄우며, 크롬드라이버 위치를 지정한다\n",
    "driver = webdriver.Chrome('./chromedriver')\n",
    "\n",
    "try:\n",
    "    driver.get('https://news.naver.com')\n",
    "    \n",
    "    elem = driver.find_element_by_id('_rankingList0')\n",
    "    #print(elem.text)\n",
    "    \n",
    "    lis = elem.find_element_by_tag_name('li')\n",
    "    print(lis.text)\n",
    "    \n",
    "        \n",
    "    input()\n",
    "except Exception as e:\n",
    "    print(e)\n",
    "finally:\n",
    "    driver.quit()"
   ]
  },
  {
   "cell_type": "markdown",
   "metadata": {},
   "source": [
    "# 2020.6.15일 변경사항\n",
    "\n",
    "### 참고 : https://godpeople.or.kr/board/4927670\n",
    "-400에러가 발생하면서 \"access_token 이 유효하지 않습니다.\"라는 에러가 발생하는 경우에 대한 패치\n",
    "-원인, request로 처리하는 과정에서 해더 정보를 새롭게 체크하는 것 같습니다.\n",
    "-해당 해더 정보를 추가하면 됩니다.\n",
    "- 아래 참고\n",
    "\n",
    "requests_headers = {\n",
    "    \"User-Agent\": \"Mozilla/5.0 (Windows NT 10.0; Win64; x64) AppleWebKit/537.36 (KHTML, like Gecko) Chrome/71.0.3578.98 Safari/537.36\"\n",
    "}\n",
    "\n",
    "requests.get(url, headers=requests_headers)"
   ]
  },
  {
   "cell_type": "markdown",
   "metadata": {},
   "source": [
    "# 2020.11.26\n",
    "## tistory api 동작 방식 변경 - implicit X -> authorization으로.\n",
    "- https://tistory.github.io/document-tistory-apis/auth/authorization_code.html\n",
    "- https://m.blog.naver.com/chandong83/221958663807\n",
    "- https://limsee.com/325\n",
    "- https://nemowork.com/entry/%ED%8B%B0%EC%8A%A4%ED%86%A0%EB%A6%AC-API%EA%B0%80-%EC%9E%AC%EB%8C%80%EB%A1%9C-%EB%8F%99%EC%9E%91%ED%95%98%EC%A7%80-%EC%95%8A%EC%95%98%EB%8D%98-%EC%9D%B4%EC%9C%A0%EB%A5%BC-%EC%95%8C%EC%95%84%EB%82%B4%EB%8B%A4\n",
    "- https://tariat.tistory.com/128\n",
    "- 파이썬 티스토리 API 예제 (https://m.blog.naver.com/chandong83/221958663807)\n",
    "- 파이썬 티스토리 API 이용 (https://yoyoii.tistory.com/352)\n",
    "- 파이썬 티스토리 API access token 확인하기 (https://tariat.tistory.com/128)\n",
    "- 파이썬을 이용한 티스토리 제목 및 카테고리 크롤링 (https://smorning.tistory.com/266)\n",
    "- 파이썬으로 크롬 개발자도구 네트워크 탭 크롤링 하기\n"
   ]
  }
 ],
 "metadata": {
  "kernelspec": {
   "display_name": "Python 3",
   "language": "python",
   "name": "python3"
  },
  "language_info": {
   "codemirror_mode": {
    "name": "ipython",
    "version": 3
   },
   "file_extension": ".py",
   "mimetype": "text/x-python",
   "name": "python",
   "nbconvert_exporter": "python",
   "pygments_lexer": "ipython3",
   "version": "3.8.5"
  }
 },
 "nbformat": 4,
 "nbformat_minor": 4
}
